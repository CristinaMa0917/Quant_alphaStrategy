{
 "cells": [
  {
   "cell_type": "code",
   "execution_count": null,
   "metadata": {},
   "outputs": [],
   "source": [
    "import os\n",
    "import pandas as pd\n",
    "import numpy as np\n",
    "import seaborn as sns\n",
    "import matplotlib.pyplot as plt\n",
    "factors = ['Beta60', 'OperatingRevenueGrowRate', 'NetProfitGrowRate', 'NetCashFlowGrowRate', 'NetProfitGrowRate5Y', 'TVSTD20',\n",
    "           'TVSTD6', 'TVMA20', 'TVMA6', 'BLEV', 'MLEV', 'CashToCurrentLiability', 'CurrentRatio', 'REC', 'DAREC', 'GREC',\n",
    "           'DASREV', 'SFY12P', 'LCAP', 'ASSI', 'LFLO', 'TA2EV', 'PEG5Y', 'PE', 'PB', 'PS', 'SalesCostRatio', 'PCF', 'CETOP',\n",
    "           'TotalProfitGrowRate', 'CTOP', 'MACD', 'DEA', 'DIFF', 'RSI', 'PSY', 'BIAS10', 'ROE', 'ROA', 'ROA5', 'ROE5',\n",
    "           'DEGM', 'GrossIncomeRatio', 'ROECut', 'NIAPCut', 'CurrentAssetsTRate', 'FixedAssetsTRate', 'FCFF', 'FCFE', 'PLRC6',\n",
    "           'REVS5', 'REVS10', 'REVS20', 'REVS60', 'HSIGMA', 'HsigmaCNE5', 'ChaikinOscillator', 'ChaikinVolatility', 'Aroon',\n",
    "           'DDI', 'MTM', 'MTMMA', 'VOL10', 'VOL20', 'VOL5', 'VOL60', 'RealizedVolatility', 'DASTD', 'DDNSR', 'Hurst']\n",
    "\n",
    "df = pd.read_csv('dataset_1.csv',encoding='GBK')\n",
    "df.head()"
   ]
  },
  {
   "cell_type": "code",
   "execution_count": null,
   "metadata": {},
   "outputs": [],
   "source": [
    "# 因子离散化\n",
    "import time\n",
    "\n",
    "s = time.time()\n",
    "quanNum = 10 ###设置成想要离散的档位数\n",
    "\n",
    "def modifyFactor(group,factors):\n",
    "    for afactor in factors:\n",
    "        quanList = [min(group[afactor])]\n",
    "        for i in range(quanNum-1):\n",
    "            level = 1/quanNum*(i+1)\n",
    "            quanList.append(group[afactor].quantile(level))\n",
    "        quanList.append(max(group[afactor]))# 拿到每个交易日，每个因子的quannum分位数阈值list\n",
    "\n",
    "        def _get_label(x): # 从 1 到 quanNum给因子分组，1 是因子值比较大的组\n",
    "            i = 0\n",
    "            while 1:\n",
    "                if quanList[i]<=x and x <=quanList[i+1]:\n",
    "                            return quanNum - i\n",
    "                else:\n",
    "                            i += 1 \n",
    "        group.loc[:,afactor] = group.loc[:,afactor].apply(lambda x : _get_label(x))\n",
    "    return group\n",
    "\n",
    "new_df = None\n",
    "print('start to discrete factors')             \n",
    "for date,group in df.groupby('tradeDate'):\n",
    "    group = modifyFactor(group,factors)\n",
    "    \n",
    "    if new_df is None:\n",
    "        new_df = group\n",
    "    else:\n",
    "        new_df = pd.concat([new_df, group],ignore_index=True)\n",
    "\n",
    "print('Discreting factor is done,cost time = ',time.time()-s)\n",
    "new_df.to_csv('dataset_factorRank10.csv')"
   ]
  }
 ],
 "metadata": {
  "kernelspec": {
   "display_name": "Python 3",
   "language": "python",
   "name": "python3"
  },
  "language_info": {
   "codemirror_mode": {
    "name": "ipython",
    "version": 3
   },
   "file_extension": ".py",
   "mimetype": "text/x-python",
   "name": "python",
   "nbconvert_exporter": "python",
   "pygments_lexer": "ipython3",
   "version": "3.6.4"
  }
 },
 "nbformat": 4,
 "nbformat_minor": 2
}
